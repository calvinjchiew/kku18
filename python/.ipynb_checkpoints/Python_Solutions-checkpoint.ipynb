{
 "cells": [
  {
   "cell_type": "markdown",
   "metadata": {},
   "source": [
    "# Applied Statistical Learning in Python: Introduction to Python\n",
    "**KKU Datathon 2018**<br>\n",
    "\n",
    "## Hands-on Exercise: Solutions"
   ]
  },
  {
   "cell_type": "markdown",
   "metadata": {},
   "source": [
    "This is a simple exercise where we will practice reading csv formatted data and doing some very simple data exploration. \n",
    "\n",
    "You are given a dataset on 400 births in the United States with 3 variables: (1) birth weight (2) femur length (3) maternal age."
   ]
  },
  {
   "cell_type": "code",
   "execution_count": 1,
   "metadata": {
    "collapsed": true
   },
   "outputs": [],
   "source": [
    "import pandas as pd\n",
    "import matplotlib\n",
    "import matplotlib.pyplot as plt\n",
    "%matplotlib inline"
   ]
  },
  {
   "cell_type": "markdown",
   "metadata": {},
   "source": [
    "## Q1. Read in the dataset `births.csv` into a pandas dataframe. Inspect the first 5 rows. Print its dimensions. "
   ]
  },
  {
   "cell_type": "code",
   "execution_count": 3,
   "metadata": {},
   "outputs": [
    {
     "data": {
      "text/html": [
       "<div>\n",
       "<style>\n",
       "    .dataframe thead tr:only-child th {\n",
       "        text-align: right;\n",
       "    }\n",
       "\n",
       "    .dataframe thead th {\n",
       "        text-align: left;\n",
       "    }\n",
       "\n",
       "    .dataframe tbody tr th {\n",
       "        vertical-align: top;\n",
       "    }\n",
       "</style>\n",
       "<table border=\"1\" class=\"dataframe\">\n",
       "  <thead>\n",
       "    <tr style=\"text-align: right;\">\n",
       "      <th></th>\n",
       "      <th>birth_weight</th>\n",
       "      <th>femur_length</th>\n",
       "      <th>mother_age</th>\n",
       "    </tr>\n",
       "  </thead>\n",
       "  <tbody>\n",
       "    <tr>\n",
       "      <th>0</th>\n",
       "      <td>2.969489</td>\n",
       "      <td>1.979156</td>\n",
       "      <td>16</td>\n",
       "    </tr>\n",
       "    <tr>\n",
       "      <th>1</th>\n",
       "      <td>4.038963</td>\n",
       "      <td>3.555681</td>\n",
       "      <td>16</td>\n",
       "    </tr>\n",
       "    <tr>\n",
       "      <th>2</th>\n",
       "      <td>5.302643</td>\n",
       "      <td>3.385633</td>\n",
       "      <td>15</td>\n",
       "    </tr>\n",
       "    <tr>\n",
       "      <th>3</th>\n",
       "      <td>6.086107</td>\n",
       "      <td>4.495427</td>\n",
       "      <td>17</td>\n",
       "    </tr>\n",
       "    <tr>\n",
       "      <th>4</th>\n",
       "      <td>5.749260</td>\n",
       "      <td>4.017437</td>\n",
       "      <td>16</td>\n",
       "    </tr>\n",
       "  </tbody>\n",
       "</table>\n",
       "</div>"
      ],
      "text/plain": [
       "   birth_weight  femur_length  mother_age\n",
       "0      2.969489      1.979156          16\n",
       "1      4.038963      3.555681          16\n",
       "2      5.302643      3.385633          15\n",
       "3      6.086107      4.495427          17\n",
       "4      5.749260      4.017437          16"
      ]
     },
     "execution_count": 3,
     "metadata": {},
     "output_type": "execute_result"
    }
   ],
   "source": [
    "births = pd.read_csv('births.csv')\n",
    "births.head()"
   ]
  },
  {
   "cell_type": "code",
   "execution_count": 4,
   "metadata": {},
   "outputs": [
    {
     "data": {
      "text/plain": [
       "(400, 3)"
      ]
     },
     "execution_count": 4,
     "metadata": {},
     "output_type": "execute_result"
    }
   ],
   "source": [
    "births.shape"
   ]
  },
  {
   "cell_type": "markdown",
   "metadata": {},
   "source": [
    "## Q2. Print out the mean value for each of the 3 variables (columns)."
   ]
  },
  {
   "cell_type": "code",
   "execution_count": 5,
   "metadata": {},
   "outputs": [
    {
     "data": {
      "text/plain": [
       "birth_weight     6.104070\n",
       "femur_length     3.827591\n",
       "mother_age      27.060000\n",
       "dtype: float64"
      ]
     },
     "execution_count": 5,
     "metadata": {},
     "output_type": "execute_result"
    }
   ],
   "source": [
    "births.mean()"
   ]
  },
  {
   "cell_type": "markdown",
   "metadata": {},
   "source": [
    "## Q3. Split the data into 3 groups based on the mother's age (< 18, 18-34 and >34). Print out the number of births and mean birth weight for each group."
   ]
  },
  {
   "cell_type": "code",
   "execution_count": 6,
   "metadata": {},
   "outputs": [
    {
     "name": "stdout",
     "output_type": "stream",
     "text": [
      "Mother age <18: 100 births, mean birth weight 5.17\n",
      "Mother age 18-34: 200 births, mean birth weight 6.71\n",
      "Mother age >34: 100 births, mean birth weight 5.84\n"
     ]
    }
   ],
   "source": [
    "group1 = births[births['mother_age'] < 18]\n",
    "group2 = births[(births['mother_age'] >= 18) & (births['mother_age'] <= 34)]\n",
    "group3 = births[births['mother_age'] > 34]\n",
    "\n",
    "print ('Mother age <18: {} births, mean birth weight {:.2f}'.format(group1.shape[0], group1.mean()[0]))\n",
    "print ('Mother age 18-34: {} births, mean birth weight {:.2f}'.format(group2.shape[0], group2.mean()[0]))\n",
    "print ('Mother age >34: {} births, mean birth weight {:.2f}'.format(group3.shape[0], group3.mean()[0]))"
   ]
  },
  {
   "cell_type": "markdown",
   "metadata": {},
   "source": [
    "## Q4. Visualize a 2D scatter plot of femur length against birth weight (for all births)."
   ]
  },
  {
   "cell_type": "code",
   "execution_count": 7,
   "metadata": {},
   "outputs": [
    {
     "data": {
      "image/png": "[encoded data removed]",
      "text/plain": [
       "<matplotlib.figure.Figure at 0x204aea08dd8>"
      ]
     },
     "metadata": {},
     "output_type": "display_data"
    }
   ],
   "source": [
    "plt.figure()\n",
    "plt.scatter(births['birth_weight'], births['femur_length'])\n",
    "plt.xlabel('Birth weight')\n",
    "plt.ylabel('Femur length')\n",
    "plt.show()"
   ]
  },
  {
   "cell_type": "markdown",
   "metadata": {},
   "source": [
    "## Q5. Visualize the same plot as above, but this time, color the points according to the mother's age group (use red, blue and green to represent the 3 groups from earlier)."
   ]
  },
  {
   "cell_type": "code",
   "execution_count": 8,
   "metadata": {},
   "outputs": [
    {
     "data": {
      "image/png": "[encoded data removed]",
      "text/plain": [
       "<matplotlib.figure.Figure at 0x204aeca1978>"
      ]
     },
     "metadata": {},
     "output_type": "display_data"
    }
   ],
   "source": [
    "plt.figure()\n",
    "plt.scatter(group1['birth_weight'], group1['femur_length'], color='red', label='Mother age <18')\n",
    "plt.scatter(group2['birth_weight'], group2['femur_length'], color='blue', label='Mother age 18-34')\n",
    "plt.scatter(group3['birth_weight'], group3['femur_length'], color='green', label='Mother age >34')\n",
    "plt.xlabel('Birth weight')\n",
    "plt.ylabel('Femur length')\n",
    "plt.legend(loc='lower right')\n",
    "plt.show()"
   ]
  },
  {
   "cell_type": "code",
   "execution_count": null,
   "metadata": {
    "collapsed": true
   },
   "outputs": [],
   "source": []
  }
 ],
 "metadata": {
  "anaconda-cloud": {},
  "kernelspec": {
   "display_name": "Python [ipykernel_py3]",
   "language": "python",
   "name": "Python [ipykernel_py3]"
  },
  "language_info": {
   "codemirror_mode": {
    "name": "ipython",
    "version": 3
   },
   "file_extension": ".py",
   "mimetype": "text/x-python",
   "name": "python",
   "nbconvert_exporter": "python",
   "pygments_lexer": "ipython3",
   "version": "3.6.4"
  }
 },
 "nbformat": 4,
 "nbformat_minor": 1
}
