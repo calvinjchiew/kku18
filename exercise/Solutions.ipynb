{
 "cells": [
  {
   "cell_type": "markdown",
   "metadata": {},
   "source": [
    "# Applied Statistical Learning in Python\n",
    "**KKU Datathon 2018**<br>\n",
    "\n",
    "## Exercise Solutions: Leukemia Diagnosis"
   ]
  },
  {
   "cell_type": "markdown",
   "metadata": {},
   "source": [
    "You are given a dataset on 72 tissue samples taken from leukemia patients. The first 107 columns are gene expression measurements for genes known to be relevant to leukemia based on current knowledge. The last column is a label with 0 indicating that the patient had Acute Lymphoblastic Leukemia (ALL), while 1 indicating Acute Myeloid Leukemia (AML). Your task is to build a classification model to predict whether patients have ALL or AML based on their genetic expression values. Your model will be used as a diagnostic tool for new patients with leukemia."
   ]
  },
  {
   "cell_type": "code",
   "execution_count": 3,
   "metadata": {
    "collapsed": true
   },
   "outputs": [],
   "source": [
    "import numpy as np\n",
    "import pandas as pd\n",
    "import scipy as sp\n",
    "from sklearn.model_selection import train_test_split, GridSearchCV\n",
    "from sklearn.linear_model import LogisticRegression\n",
    "from sklearn.ensemble import RandomForestClassifier\n",
    "from sklearn.svm import SVC\n",
    "from sklearn.metrics import roc_curve, auc\n",
    "import matplotlib\n",
    "import matplotlib.pyplot as plt\n",
    "%matplotlib inline"
   ]
  },
  {
   "cell_type": "markdown",
   "metadata": {},
   "source": [
    "## Q1. Read in the dataset `leukemia.csv`. Print the first 5 rows. Check its dimensions."
   ]
  },
  {
   "cell_type": "code",
   "execution_count": 5,
   "metadata": {},
   "outputs": [
    {
     "data": {
      "text/html": [
       "<div>\n",
       "<style>\n",
       "    .dataframe thead tr:only-child th {\n",
       "        text-align: right;\n",
       "    }\n",
       "\n",
       "    .dataframe thead th {\n",
       "        text-align: left;\n",
       "    }\n",
       "\n",
       "    .dataframe tbody tr th {\n",
       "        vertical-align: top;\n",
       "    }\n",
       "</style>\n",
       "<table border=\"1\" class=\"dataframe\">\n",
       "  <thead>\n",
       "    <tr style=\"text-align: right;\">\n",
       "      <th></th>\n",
       "      <th>M84371_rna1_s_at</th>\n",
       "      <th>J03779_at</th>\n",
       "      <th>X82240_rna1_at</th>\n",
       "      <th>U22376_cds2_s_at</th>\n",
       "      <th>U79262_at</th>\n",
       "      <th>M27396_s_at</th>\n",
       "      <th>J04948_at</th>\n",
       "      <th>M19508_xpt3_s_at</th>\n",
       "      <th>M22324_at</th>\n",
       "      <th>M23197_at</th>\n",
       "      <th>...</th>\n",
       "      <th>D88270_at</th>\n",
       "      <th>X15414_at</th>\n",
       "      <th>X63527_at</th>\n",
       "      <th>X67951_at</th>\n",
       "      <th>L13278_at</th>\n",
       "      <th>L14848_s_at</th>\n",
       "      <th>U46006_s_at</th>\n",
       "      <th>U49957_s_at</th>\n",
       "      <th>X01677_f_at</th>\n",
       "      <th>label</th>\n",
       "    </tr>\n",
       "  </thead>\n",
       "  <tbody>\n",
       "    <tr>\n",
       "      <th>0</th>\n",
       "      <td>1477</td>\n",
       "      <td>6109</td>\n",
       "      <td>2302</td>\n",
       "      <td>2037</td>\n",
       "      <td>936</td>\n",
       "      <td>-7</td>\n",
       "      <td>736</td>\n",
       "      <td>1182</td>\n",
       "      <td>729</td>\n",
       "      <td>168</td>\n",
       "      <td>...</td>\n",
       "      <td>2006</td>\n",
       "      <td>1076</td>\n",
       "      <td>20415</td>\n",
       "      <td>4907</td>\n",
       "      <td>67</td>\n",
       "      <td>144</td>\n",
       "      <td>214</td>\n",
       "      <td>-24</td>\n",
       "      <td>12869</td>\n",
       "      <td>0</td>\n",
       "    </tr>\n",
       "    <tr>\n",
       "      <th>1</th>\n",
       "      <td>2758</td>\n",
       "      <td>3545</td>\n",
       "      <td>-111</td>\n",
       "      <td>1497</td>\n",
       "      <td>636</td>\n",
       "      <td>40</td>\n",
       "      <td>323</td>\n",
       "      <td>493</td>\n",
       "      <td>-203</td>\n",
       "      <td>244</td>\n",
       "      <td>...</td>\n",
       "      <td>1803</td>\n",
       "      <td>992</td>\n",
       "      <td>25795</td>\n",
       "      <td>3255</td>\n",
       "      <td>216</td>\n",
       "      <td>424</td>\n",
       "      <td>325</td>\n",
       "      <td>19</td>\n",
       "      <td>17954</td>\n",
       "      <td>0</td>\n",
       "    </tr>\n",
       "    <tr>\n",
       "      <th>2</th>\n",
       "      <td>721</td>\n",
       "      <td>3047</td>\n",
       "      <td>116</td>\n",
       "      <td>2105</td>\n",
       "      <td>681</td>\n",
       "      <td>135</td>\n",
       "      <td>616</td>\n",
       "      <td>1002</td>\n",
       "      <td>42</td>\n",
       "      <td>154</td>\n",
       "      <td>...</td>\n",
       "      <td>3110</td>\n",
       "      <td>1443</td>\n",
       "      <td>22761</td>\n",
       "      <td>2871</td>\n",
       "      <td>100</td>\n",
       "      <td>-12</td>\n",
       "      <td>48</td>\n",
       "      <td>1</td>\n",
       "      <td>17102</td>\n",
       "      <td>0</td>\n",
       "    </tr>\n",
       "    <tr>\n",
       "      <th>3</th>\n",
       "      <td>779</td>\n",
       "      <td>2126</td>\n",
       "      <td>212</td>\n",
       "      <td>2805</td>\n",
       "      <td>672</td>\n",
       "      <td>56</td>\n",
       "      <td>416</td>\n",
       "      <td>811</td>\n",
       "      <td>424</td>\n",
       "      <td>287</td>\n",
       "      <td>...</td>\n",
       "      <td>1924</td>\n",
       "      <td>512</td>\n",
       "      <td>14571</td>\n",
       "      <td>601</td>\n",
       "      <td>176</td>\n",
       "      <td>-27</td>\n",
       "      <td>33</td>\n",
       "      <td>-35</td>\n",
       "      <td>17048</td>\n",
       "      <td>0</td>\n",
       "    </tr>\n",
       "    <tr>\n",
       "      <th>4</th>\n",
       "      <td>2338</td>\n",
       "      <td>4498</td>\n",
       "      <td>18727</td>\n",
       "      <td>6996</td>\n",
       "      <td>1087</td>\n",
       "      <td>93</td>\n",
       "      <td>363</td>\n",
       "      <td>777</td>\n",
       "      <td>289</td>\n",
       "      <td>222</td>\n",
       "      <td>...</td>\n",
       "      <td>10157</td>\n",
       "      <td>3395</td>\n",
       "      <td>21771</td>\n",
       "      <td>7201</td>\n",
       "      <td>461</td>\n",
       "      <td>210</td>\n",
       "      <td>755</td>\n",
       "      <td>-39</td>\n",
       "      <td>12692</td>\n",
       "      <td>0</td>\n",
       "    </tr>\n",
       "  </tbody>\n",
       "</table>\n",
       "<p>5 rows × 108 columns</p>\n",
       "</div>"
      ],
      "text/plain": [
       "   M84371_rna1_s_at  J03779_at  X82240_rna1_at  U22376_cds2_s_at  U79262_at  \\\n",
       "0              1477       6109            2302              2037        936   \n",
       "1              2758       3545            -111              1497        636   \n",
       "2               721       3047             116              2105        681   \n",
       "3               779       2126             212              2805        672   \n",
       "4              2338       4498           18727              6996       1087   \n",
       "\n",
       "   M27396_s_at  J04948_at  M19508_xpt3_s_at  M22324_at  M23197_at  ...    \\\n",
       "0           -7        736              1182        729        168  ...     \n",
       "1           40        323               493       -203        244  ...     \n",
       "2          135        616              1002         42        154  ...     \n",
       "3           56        416               811        424        287  ...     \n",
       "4           93        363               777        289        222  ...     \n",
       "\n",
       "   D88270_at  X15414_at  X63527_at  X67951_at  L13278_at  L14848_s_at  \\\n",
       "0       2006       1076      20415       4907         67          144   \n",
       "1       1803        992      25795       3255        216          424   \n",
       "2       3110       1443      22761       2871        100          -12   \n",
       "3       1924        512      14571        601        176          -27   \n",
       "4      10157       3395      21771       7201        461          210   \n",
       "\n",
       "   U46006_s_at  U49957_s_at  X01677_f_at  label  \n",
       "0          214          -24        12869      0  \n",
       "1          325           19        17954      0  \n",
       "2           48            1        17102      0  \n",
       "3           33          -35        17048      0  \n",
       "4          755          -39        12692      0  \n",
       "\n",
       "[5 rows x 108 columns]"
      ]
     },
     "execution_count": 5,
     "metadata": {},
     "output_type": "execute_result"
    }
   ],
   "source": [
    "# load and inspect the data\n",
    "data = pd.read_csv('leukemia.csv')\n",
    "data.head()"
   ]
  },
  {
   "cell_type": "code",
   "execution_count": 6,
   "metadata": {},
   "outputs": [
    {
     "data": {
      "text/plain": [
       "(72, 108)"
      ]
     },
     "execution_count": 6,
     "metadata": {},
     "output_type": "execute_result"
    }
   ],
   "source": [
    "data.shape"
   ]
  },
  {
   "cell_type": "markdown",
   "metadata": {},
   "source": [
    "## Q2. Split the data into training (67%) and testing (33%) sets. Check their dimensions."
   ]
  },
  {
   "cell_type": "code",
   "execution_count": 7,
   "metadata": {},
   "outputs": [
    {
     "name": "stdout",
     "output_type": "stream",
     "text": [
      "x: (72, 107)\n",
      "y: (72,)\n"
     ]
    }
   ],
   "source": [
    "# prepare predictor and response arrays from data\n",
    "x = data.values[:, 0:107]\n",
    "y = data.values[:, 107]\n",
    "print ('x:', x.shape)\n",
    "print ('y:', y.shape)"
   ]
  },
  {
   "cell_type": "code",
   "execution_count": 8,
   "metadata": {},
   "outputs": [
    {
     "name": "stdout",
     "output_type": "stream",
     "text": [
      "Train set:  (48, 107)\n",
      "Test set:  (24, 107)\n",
      "Train ALL: 34, Train AML: 14\n",
      "Test ALL: 13, Test AML: 11\n"
     ]
    }
   ],
   "source": [
    "# split the data into training (67%) and testing (33%) sets\n",
    "x_train, x_test, y_train, y_test = train_test_split(x, y, test_size=0.33, random_state=123)\n",
    "\n",
    "# sanity check\n",
    "print ('Train set: ', x_train.shape)\n",
    "print ('Test set: ', x_test.shape)\n",
    "print ('Train ALL: {}, Train AML: {}'.format(len(y_train[y_train==0]), len(y_train[y_train==1])))\n",
    "print ('Test ALL: {}, Test AML: {}'.format(len(y_test[y_test==0]), len(y_test[y_test==1])))"
   ]
  },
  {
   "cell_type": "markdown",
   "metadata": {},
   "source": [
    "## Q3. Train 3 separate models using logistic regression, random forest and support vector machines. Compare their overall test accuracies, as well as test accuracies for predicting ALL and AML."
   ]
  },
  {
   "cell_type": "code",
   "execution_count": 9,
   "metadata": {
    "collapsed": true
   },
   "outputs": [],
   "source": [
    "# function for scoring the overall and by-class test accuracy of a given model\n",
    "score = lambda model, x_test, y_test: pd.Series([model.score(x_test, y_test), \n",
    "                                                 model.score(x_test[y_test==0], y_test[y_test==0]),\n",
    "                                                 model.score(x_test[y_test==1], y_test[y_test==1])],\n",
    "                                                index=['Overall test accuracy', 'Test accuracy on ALL', 'Test accuracy on AML'])"
   ]
  },
  {
   "cell_type": "code",
   "execution_count": 10,
   "metadata": {},
   "outputs": [
    {
     "data": {
      "text/html": [
       "<div>\n",
       "<style>\n",
       "    .dataframe thead tr:only-child th {\n",
       "        text-align: right;\n",
       "    }\n",
       "\n",
       "    .dataframe thead th {\n",
       "        text-align: left;\n",
       "    }\n",
       "\n",
       "    .dataframe tbody tr th {\n",
       "        vertical-align: top;\n",
       "    }\n",
       "</style>\n",
       "<table border=\"1\" class=\"dataframe\">\n",
       "  <thead>\n",
       "    <tr style=\"text-align: right;\">\n",
       "      <th></th>\n",
       "      <th>Logistic Reg</th>\n",
       "      <th>Random Forest</th>\n",
       "      <th>SVM</th>\n",
       "    </tr>\n",
       "  </thead>\n",
       "  <tbody>\n",
       "    <tr>\n",
       "      <th>Overall test accuracy</th>\n",
       "      <td>0.875000</td>\n",
       "      <td>0.958333</td>\n",
       "      <td>0.541667</td>\n",
       "    </tr>\n",
       "    <tr>\n",
       "      <th>Test accuracy on ALL</th>\n",
       "      <td>0.923077</td>\n",
       "      <td>1.000000</td>\n",
       "      <td>1.000000</td>\n",
       "    </tr>\n",
       "    <tr>\n",
       "      <th>Test accuracy on AML</th>\n",
       "      <td>0.818182</td>\n",
       "      <td>0.909091</td>\n",
       "      <td>0.000000</td>\n",
       "    </tr>\n",
       "  </tbody>\n",
       "</table>\n",
       "</div>"
      ],
      "text/plain": [
       "                       Logistic Reg  Random Forest       SVM\n",
       "Overall test accuracy      0.875000       0.958333  0.541667\n",
       "Test accuracy on ALL       0.923077       1.000000  1.000000\n",
       "Test accuracy on AML       0.818182       0.909091  0.000000"
      ]
     },
     "execution_count": 10,
     "metadata": {},
     "output_type": "execute_result"
    }
   ],
   "source": [
    "# logistic regression\n",
    "lr = LogisticRegression(class_weight='balanced')\n",
    "lr.fit(x_train, y_train)\n",
    "lr_scores = score(lr, x_test, y_test)\n",
    "\n",
    "# random forest\n",
    "rf = RandomForestClassifier(class_weight='balanced', n_estimators=30)\n",
    "rf.fit(x_train, y_train)\n",
    "rf_scores = score(rf, x_test, y_test)\n",
    "\n",
    "# svm\n",
    "svm = SVC(class_weight='balanced')\n",
    "svm.fit(x_train, y_train)\n",
    "svm_scores = score(svm, x_test, y_test)\n",
    "\n",
    "# present scores in a dataframe\n",
    "score_df = pd.DataFrame({'Logistic Reg': lr_scores, 'Random Forest': rf_scores, 'SVM': svm_scores})\n",
    "score_df"
   ]
  },
  {
   "cell_type": "markdown",
   "metadata": {},
   "source": [
    "## Q4. Use 3-fold cross-validation to find the best number and maximum depth of trees for the random forest model. Use 3-fold cross-validation to find the best kernel and regularization parameter `C` for the SVM model."
   ]
  },
  {
   "cell_type": "code",
   "execution_count": 11,
   "metadata": {},
   "outputs": [
    {
     "name": "stdout",
     "output_type": "stream",
     "text": [
      "Overall accuracy for random forest model with {'max_depth': 2, 'n_estimators': 30}: 1.0\n"
     ]
    }
   ],
   "source": [
    "# tune random forest\n",
    "parameters = {'n_estimators': [10, 30, 50], 'max_depth': range(1, 10)}\n",
    "rf = RandomForestClassifier(class_weight='balanced')\n",
    "rf_tuned = GridSearchCV(rf, parameters, cv=3)\n",
    "rf_tuned.fit(x_train, y_train)\n",
    "print ('Overall accuracy for random forest model with {}: {}'.format(rf_tuned.best_params_, score(rf_tuned, x_test, y_test)[0]))"
   ]
  },
  {
   "cell_type": "code",
   "execution_count": 12,
   "metadata": {},
   "outputs": [
    {
     "name": "stdout",
     "output_type": "stream",
     "text": [
      "Overall accuracy for SVM model with {'C': 0.001, 'kernel': 'linear'}: 0.875\n"
     ]
    }
   ],
   "source": [
    "# tune svm\n",
    "parameters = {'kernel': ['linear', 'rbf'], 'C': [0.001, 0.01, 0.1, 1, 10]}\n",
    "svm = SVC(class_weight='balanced')\n",
    "svm_tuned = GridSearchCV(svm, parameters, cv=3)\n",
    "svm_tuned.fit(x_train, y_train)\n",
    "print ('Overall accuracy for SVM model with {}: {}'.format(svm_tuned.best_params_, score(svm_tuned, x_test, y_test)[0]))"
   ]
  },
  {
   "cell_type": "markdown",
   "metadata": {},
   "source": [
    "## Q5. Plot Receiver Operating Characteristic (ROC) curves for the 3 models in a graph and compare their areas under the curve (AUC). Use parameters tuned from above."
   ]
  },
  {
   "cell_type": "code",
   "execution_count": 13,
   "metadata": {},
   "outputs": [
    {
     "data": {
      "image/png": "[encoded data removed]",
      "text/plain": [
       "<matplotlib.figure.Figure at 0x28e15686898>"
      ]
     },
     "metadata": {},
     "output_type": "display_data"
    }
   ],
   "source": [
    "fpr = dict()\n",
    "tpr = dict()\n",
    "roc_auc = dict()\n",
    "\n",
    "# logistic regression\n",
    "lr = LogisticRegression(class_weight='balanced')\n",
    "lr_probas = lr.fit(x_train, y_train).predict_proba(x_test)\n",
    "fpr[\"LR\"], tpr[\"LR\"], _ = roc_curve(y_test, lr_probas[:, 1])\n",
    "roc_auc[\"LR\"] = auc(fpr[\"LR\"], tpr[\"LR\"])\n",
    "\n",
    "# random forest\n",
    "rf = RandomForestClassifier(class_weight='balanced', n_estimators=30, max_depth=2)\n",
    "rf_probas = rf.fit(x_train, y_train).predict_proba(x_test)\n",
    "fpr[\"RF\"], tpr[\"RF\"], _ = roc_curve(y_test, rf_probas[:, 1])\n",
    "roc_auc[\"RF\"] = auc(fpr[\"RF\"], tpr[\"RF\"])\n",
    "\n",
    "# svm\n",
    "svm = SVC(class_weight='balanced', kernel='linear', C=0.001)\n",
    "svm_probas = svm.fit(x_train, y_train).decision_function(x_test)\n",
    "fpr[\"SVM\"], tpr[\"SVM\"], _ = roc_curve(y_test, svm_probas)\n",
    "roc_auc[\"SVM\"] = auc(fpr[\"SVM\"], tpr[\"SVM\"])\n",
    "\n",
    "# plot\n",
    "plt.figure()\n",
    "plt.plot(fpr[\"LR\"], tpr[\"LR\"], color='darkgreen', lw=2, label='LR (AUC = %0.2f)' % roc_auc[\"LR\"])\n",
    "plt.plot(fpr[\"RF\"], tpr[\"RF\"], color='darkviolet', lw=2, label='RF (AUC = %0.2f)' % roc_auc[\"RF\"])\n",
    "plt.plot(fpr[\"SVM\"], tpr[\"SVM\"], color='darkorange', lw=2, label='SVM (AUC = %0.2f)' % roc_auc[\"SVM\"])\n",
    "plt.plot([0, 1], [0, 1], color='navy', lw=2, linestyle='--')\n",
    "plt.xlabel('False Positive Rate')\n",
    "plt.ylabel('True Positive Rate')\n",
    "plt.title('ROC Curves')\n",
    "plt.legend(loc=\"lower right\")\n",
    "plt.show()"
   ]
  },
  {
   "cell_type": "markdown",
   "metadata": {},
   "source": [
    "## Q6. Choose which model you would use for the diagnostic tool and explain your choice."
   ]
  },
  {
   "cell_type": "markdown",
   "metadata": {},
   "source": [
    "<i>Random forest model. It achieved the highest area under the ROC curve.</i>"
   ]
  },
  {
   "cell_type": "markdown",
   "metadata": {
    "collapsed": true
   },
   "source": [
    "## Q7. Visualize the top 10 most predictive genes and their relative importance in the random forest model."
   ]
  },
  {
   "cell_type": "code",
   "execution_count": 15,
   "metadata": {},
   "outputs": [
    {
     "data": {
      "image/png": "[encoded data removed]",
      "text/plain": [
       "<matplotlib.figure.Figure at 0x28e15ab6a58>"
      ]
     },
     "metadata": {},
     "output_type": "display_data"
    }
   ],
   "source": [
    "# obtain feature importance list and sort\n",
    "importances = rf.feature_importances_\n",
    "indices = np.argsort(importances)\n",
    "top10_indices = indices[-10:]\n",
    "\n",
    "# extract gene names\n",
    "features = data.columns\n",
    "\n",
    "# plot\n",
    "plt.title('Top 10 Predictive Gene Expressions')\n",
    "plt.barh(range(len(top10_indices)), importances[top10_indices], color='blue', align='center')\n",
    "plt.yticks(range(len(top10_indices)), features[top10_indices])\n",
    "plt.xlabel('Relative Importance')\n",
    "plt.show()"
   ]
  }
 ],
 "metadata": {
  "anaconda-cloud": {},
  "kernelspec": {
   "display_name": "Python [ipykernel_py3]",
   "language": "python",
   "name": "Python [ipykernel_py3]"
  },
  "language_info": {
   "codemirror_mode": {
    "name": "ipython",
    "version": 3
   },
   "file_extension": ".py",
   "mimetype": "text/x-python",
   "name": "python",
   "nbconvert_exporter": "python",
   "pygments_lexer": "ipython3",
   "version": "3.6.4"
  }
 },
 "nbformat": 4,
 "nbformat_minor": 1
}
